{
 "cells": [
  {
   "cell_type": "code",
   "execution_count": 1,
   "id": "2bfb6bc2-b2c1-4cee-89ec-05bc8d750ff4",
   "metadata": {
    "execution": {
     "iopub.execute_input": "2024-07-27T14:33:04.187879Z",
     "iopub.status.busy": "2024-07-27T14:33:04.187879Z",
     "iopub.status.idle": "2024-07-27T14:33:05.440413Z",
     "shell.execute_reply": "2024-07-27T14:33:05.440413Z",
     "shell.execute_reply.started": "2024-07-27T14:33:04.187879Z"
    },
    "tags": []
   },
   "outputs": [],
   "source": [
    "import numpy as np\n",
    "import pandas as pd\n",
    "import math\n",
    "from sklearn.metrics import *\n",
    "import scipy.io as scio\n",
    "import matplotlib.font_manager as fm\n",
    "import matplotlib.pyplot as plt"
   ]
  },
  {
   "cell_type": "code",
   "execution_count": 2,
   "id": "f71dc5e9-78e8-4ec7-8b52-bb05ffa02d0a",
   "metadata": {
    "execution": {
     "iopub.execute_input": "2024-07-27T14:33:05.441437Z",
     "iopub.status.busy": "2024-07-27T14:33:05.441437Z",
     "iopub.status.idle": "2024-07-27T14:33:05.456291Z",
     "shell.execute_reply": "2024-07-27T14:33:05.455429Z",
     "shell.execute_reply.started": "2024-07-27T14:33:05.441437Z"
    }
   },
   "outputs": [],
   "source": [
    "save_image_file = './image_save/'\n",
    "save_data_file = './data_save/'"
   ]
  },
  {
   "cell_type": "code",
   "execution_count": 3,
   "id": "e9db0443-3548-4fde-a892-f4119428bd9f",
   "metadata": {
    "execution": {
     "iopub.execute_input": "2024-07-27T14:33:05.457247Z",
     "iopub.status.busy": "2024-07-27T14:33:05.457100Z",
     "iopub.status.idle": "2024-07-27T14:33:05.924729Z",
     "shell.execute_reply": "2024-07-27T14:33:05.924729Z",
     "shell.execute_reply.started": "2024-07-27T14:33:05.457247Z"
    },
    "tags": []
   },
   "outputs": [
    {
     "data": {
      "text/plain": [
       "<bound method NDFrame.describe of       fitting time  fitting data  experiment time  experiment data\n",
       "0              0.0             0          0.01121               26\n",
       "1              0.2             0          0.20034               18\n",
       "2              0.4             0          0.40034               14\n",
       "3              0.6             0          0.60034               12\n",
       "4              0.8             0          0.80120               11\n",
       "...            ...           ...              ...              ...\n",
       "1060         212.0            38        212.00035               39\n",
       "1061         212.2            38        212.20035               39\n",
       "1062         212.4            38        212.40035               39\n",
       "1063         212.6            38        212.60035               39\n",
       "1064         212.8            38        212.80176               39\n",
       "\n",
       "[1065 rows x 4 columns]>"
      ]
     },
     "execution_count": 3,
     "metadata": {},
     "output_type": "execute_result"
    }
   ],
   "source": [
    "# 读取excel数据\n",
    "data = pd.read_excel(io = save_data_file+\"compare_data.xlsx\")\n",
    "# 查看数据描述\n",
    "data.describe"
   ]
  },
  {
   "cell_type": "code",
   "execution_count": 8,
   "id": "ecf3d703-e371-4584-be37-b5f3e1dd54b4",
   "metadata": {
    "execution": {
     "iopub.execute_input": "2024-07-27T13:45:48.765960Z",
     "iopub.status.busy": "2024-07-27T13:45:48.765960Z",
     "iopub.status.idle": "2024-07-27T13:45:48.788177Z",
     "shell.execute_reply": "2024-07-27T13:45:48.788177Z",
     "shell.execute_reply.started": "2024-07-27T13:45:48.765960Z"
    },
    "tags": []
   },
   "outputs": [
    {
     "name": "stdout",
     "output_type": "stream",
     "text": [
      "['0.000', '233.000', '273.000', '314.000', '355.000', '394.000']\n",
      "['1.000', '0.810', '0.442', '0.368', '0.322', '0.287', '0.261', '0.244', '0.228', '0.221', '0.211', '0.203', '0.195', '0.190', '0.183', '0.178', '0.175', '0.170', '0.168', '0.162', '0.160', '0.157', '0.155', '0.152', '0.150', '0.147', '0.147', '0.145', '0.142', '0.142', '0.140', '0.140', '0.137', '0.137', '0.137', '0.135', '0.132', '0.132', '0.132', '0.129', '0.129', '0.129', '0.127', '0.127', '0.127', '0.124', '0.124', '0.124', '0.122', '0.119', '0.119']\n",
      "['0.000', '212.000', '277.000', '331.000', '377.000', '413.000']\n",
      "['1.000', '0.811', '0.470', '0.402', '0.357', '0.322', '0.296', '0.276', '0.261', '0.248', '0.235', '0.226', '0.217', '0.213', '0.207', '0.202', '0.198', '0.193', '0.191', '0.187', '0.185', '0.180', '0.178', '0.176', '0.174', '0.172', '0.170', '0.167', '0.167', '0.165', '0.163', '0.163', '0.159', '0.159', '0.157', '0.157', '0.154', '0.154', '0.152', '0.150', '0.150', '0.148', '0.148', '0.148', '0.146', '0.146', '0.143', '0.143', '0.141', '0.141', '0.141']\n",
      "['0.000', '221.000', '285.000', '339.000', '384.000', '421.000']\n",
      "['1.000', '0.772', '0.486', '0.422', '0.379', '0.348', '0.323', '0.302', '0.286', '0.272', '0.261', '0.251', '0.243', '0.237', '0.230', '0.224', '0.220', '0.216', '0.212', '0.208', '0.204', '0.202', '0.200', '0.198', '0.195', '0.193', '0.191', '0.189', '0.187', '0.187', '0.185', '0.183', '0.183', '0.181', '0.179', '0.179', '0.177', '0.175', '0.175', '0.175', '0.173', '0.173', '0.171', '0.169', '0.167', '0.167', '0.165', '0.165', '0.165', '0.163', '0.163']\n",
      "['0.000', '226.000', '288.000', '342.000', '387.000', '422.000']\n",
      "['1.000', '0.780', '0.502', '0.442', '0.400', '0.368', '0.344', '0.322', '0.306', '0.294', '0.282', '0.274', '0.264', '0.258', '0.252', '0.246', '0.242', '0.238', '0.232', '0.230', '0.226', '0.224', '0.220', '0.218', '0.216', '0.214', '0.212', '0.210', '0.210', '0.208', '0.206', '0.204', '0.202', '0.202', '0.200', '0.198', '0.196', '0.196', '0.194', '0.192', '0.192', '0.190', '0.188', '0.186', '0.186', '0.184', '0.184', '0.182', '0.184', '0.182', '0.182']\n",
      "['0.000', '228.000', '287.000', '341.000', '384.000', '419.000']\n",
      "['1.000', '0.788', '0.517', '0.458', '0.417', '0.385', '0.360', '0.340', '0.324', '0.310', '0.301', '0.291', '0.283', '0.275', '0.269', '0.265', '0.259', '0.255', '0.253', '0.250', '0.246', '0.244', '0.240', '0.238', '0.236', '0.234', '0.232', '0.230', '0.228', '0.226', '0.224', '0.222', '0.220', '0.220', '0.218', '0.216', '0.214', '0.212', '0.212', '0.210', '0.210', '0.208', '0.206', '0.206', '0.204', '0.204', '0.202', '0.202', '0.202', '0.200', '0.200']\n",
      "['0.000', '230.000', '288.000', '342.000', '385.000', '419.000']\n",
      "['1.000', '0.827', '0.533', '0.473', '0.431', '0.398', '0.375', '0.354', '0.340', '0.325', '0.313', '0.306', '0.298', '0.290', '0.285', '0.279', '0.275', '0.271', '0.267', '0.263', '0.262', '0.260', '0.256', '0.254', '0.250', '0.248', '0.246', '0.244', '0.242', '0.240', '0.238', '0.237', '0.235', '0.233', '0.231', '0.231', '0.229', '0.227', '0.225', '0.225', '0.223', '0.221', '0.221', '0.219', '0.219', '0.217', '0.217', '0.215', '0.215', '0.213', '0.213']\n",
      "['0.000', '229.000', '287.000', '339.000', '382.000', '416.000']\n",
      "['1.000', '0.829', '0.543', '0.486', '0.444', '0.416', '0.391', '0.372', '0.355', '0.343', '0.332', '0.323', '0.315', '0.307', '0.302', '0.296', '0.290', '0.287', '0.283', '0.279', '0.277', '0.273', '0.271', '0.269', '0.266', '0.264', '0.262', '0.260', '0.258', '0.256', '0.254', '0.252', '0.250', '0.249', '0.247', '0.247', '0.245', '0.243', '0.241', '0.241', '0.239', '0.237', '0.237', '0.235', '0.235', '0.233', '0.231', '0.231', '0.230', '0.228', '0.228']\n",
      "['0.000', '231.000', '287.000', '340.000', '382.000', '414.000']\n",
      "['1.000', '0.828', '0.551', '0.494', '0.455', '0.425', '0.401', '0.382', '0.367', '0.354', '0.343', '0.333', '0.326', '0.320', '0.313', '0.307', '0.303', '0.300', '0.296', '0.292', '0.288', '0.287', '0.283', '0.281', '0.279', '0.275', '0.273', '0.272', '0.270', '0.268', '0.266', '0.262', '0.262', '0.260', '0.258', '0.258', '0.257', '0.255', '0.253', '0.253', '0.251', '0.251', '0.249', '0.247', '0.247', '0.245', '0.245', '0.245', '0.243', '0.243', '0.243', '0.242', '0.240', '0.240', '0.240', '0.238', '0.238', '0.236', '0.234', '0.234', '0.232', '0.232', '0.230', '0.230', '0.228', '0.227', '0.227', '0.225', '0.225', '0.225', '0.225', '0.225', '0.223', '0.223', '0.223', '0.221', '0.221', '0.221', '0.219', '0.219', '0.219', '0.219', '0.217', '0.217', '0.215', '0.213', '0.213', '0.213', '0.212', '0.212', '0.210', '0.212', '0.210', '0.208', '0.204', '0.204', '0.204', '0.204', '0.204', '0.204', '0.202', '0.202', '0.202', '0.200', '0.200', '0.200', '0.200', '0.199', '0.199', '0.199', '0.197', '0.197', '0.195', '0.195', '0.193', '0.195', '0.195', '0.193', '0.193', '0.191', '0.191', '0.191', '0.191', '0.191', '0.189', '0.189', '0.189', '0.189', '0.189', '0.189', '0.187', '0.189', '0.187', '0.187', '0.187', '0.187', '0.185', '0.185', '0.185', '0.184', '0.182', '0.182', '0.182', '0.182', '0.182', '0.180', '0.182', '0.180', '0.180', '0.180', '0.180', '0.180', '0.180', '0.178', '0.178', '0.178', '0.178', '0.178', '0.176', '0.176', '0.176', '0.174', '0.174', '0.174', '0.174', '0.172', '0.172', '0.172', '0.172', '0.172', '0.170', '0.170', '0.170', '0.170', '0.169', '0.169', '0.169', '0.167', '0.167', '0.167', '0.167', '0.167', '0.165', '0.165', '0.165', '0.165', '0.165', '0.163', '0.163', '0.163', '0.163', '0.163', '0.161', '0.161', '0.161', '0.161', '0.161', '0.161', '0.159', '0.161', '0.159', '0.159', '0.157', '0.157', '0.159', '0.157', '0.159', '0.157', '0.157', '0.157', '0.157', '0.157', '0.157', '0.155', '0.155', '0.155', '0.154', '0.154', '0.154', '0.154', '0.154', '0.152', '0.152', '0.152', '0.152', '0.150', '0.150', '0.150', '0.150', '0.150', '0.150', '0.150', '0.148', '0.148', '0.148', '0.150', '0.148', '0.148', '0.146', '0.146', '0.146', '0.146', '0.146', '0.146', '0.146', '0.146', '0.146', '0.144', '0.144', '0.144', '0.142', '0.144', '0.146', '0.144', '0.142', '0.142', '0.142', '0.142', '0.140', '0.142', '0.140', '0.140', '0.140', '0.140', '0.140', '0.140', '0.140', '0.140', '0.140', '0.140', '0.139', '0.139', '0.139', '0.139', '0.139', '0.139', '0.137', '0.137', '0.137', '0.137', '0.137', '0.137', '0.135', '0.135', '0.135', '0.135', '0.135', '0.135', '0.135', '0.135', '0.135', '0.135', '0.135', '0.135', '0.133', '0.135', '0.133', '0.133', '0.133', '0.133', '0.133', '0.131', '0.131', '0.131', '0.131', '0.131', '0.131', '0.129', '0.129', '0.129', '0.129', '0.129', '0.129', '0.127', '0.129', '0.127', '0.127', '0.127', '0.127', '0.127', '0.127', '0.127', '0.125', '0.125', '0.125', '0.125', '0.125', '0.125', '0.125', '0.125', '0.124', '0.124', '0.124', '0.124', '0.124', '0.124', '0.124', '0.122', '0.122', '0.122', '0.122', '0.122', '0.122', '0.122', '0.122', '0.122', '0.122', '0.122', '0.122', '0.120', '0.122', '0.120', '0.120', '0.120', '0.120', '0.120', '0.118', '0.118', '0.118', '0.118', '0.118', '0.118', '0.118', '0.118', '0.116', '0.116', '0.116', '0.114', '0.116', '0.114', '0.114', '0.114', '0.114', '0.114', '0.114', '0.112', '0.112', '0.112', '0.112', '0.112', '0.112', '0.110', '0.112', '0.112', '0.112', '0.110', '0.110', '0.110', '0.110', '0.110', '0.110', '0.110', '0.110', '0.109', '0.110', '0.109', '0.109', '0.109', '0.109', '0.107', '0.107', '0.109', '0.109', '0.107', '0.107', '0.107', '0.107', '0.107', '0.107', '0.107', '0.107', '0.107', '0.105', '0.105', '0.105', '0.105', '0.105', '0.105', '0.103', '0.103', '0.103', '0.103', '0.101', '0.101', '0.101', '0.101', '0.103', '0.101', '0.101', '0.101', '0.101', '0.101', '0.101', '0.101', '0.101', '0.101', '0.101', '0.101', '0.099', '0.099', '0.099', '0.099', '0.099', '0.099', '0.099', '0.099', '0.099', '0.097', '0.097', '0.097', '0.097', '0.097', '0.097', '0.097', '0.097', '0.097', '0.097', '0.097', '0.097', '0.096', '0.097', '0.096', '0.096', '0.096', '0.096', '0.096', '0.096', '0.094', '0.094', '0.094', '0.094', '0.094', '0.094', '0.092', '0.092', '0.092', '0.092', '0.092', '0.092', '0.092', '0.092', '0.092', '0.092', '0.092', '0.092', '0.092', '0.092', '0.092', '0.092', '0.092', '0.092', '0.090', '0.090', '0.090', '0.090', '0.090', '0.090', '0.090', '0.090', '0.088', '0.088', '0.088', '0.088', '0.088', '0.088', '0.086', '0.086', '0.086', '0.086', '0.086', '0.086', '0.086', '0.086', '0.086', '0.086', '0.086', '0.086', '0.086', '0.086', '0.086', '0.086', '0.084', '0.084', '0.084', '0.084', '0.084', '0.084', '0.082', '0.082', '0.084', '0.082', '0.082', '0.082', '0.082', '0.082', '0.082', '0.082', '0.082', '0.082', '0.082', '0.081', '0.081', '0.081', '0.081', '0.081', '0.081', '0.081', '0.081', '0.079', '0.079', '0.079', '0.079', '0.079', '0.079', '0.079', '0.079', '0.077', '0.077', '0.077', '0.079', '0.077', '0.077', '0.077', '0.077', '0.077', '0.079', '0.081', '0.082', '0.081', '0.082', '0.082', '0.081', '0.081', '0.081', '0.081', '0.079', '0.079', '0.079', '0.077', '0.079', '0.079', '0.079', '0.079', '0.077', '0.077', '0.077', '0.077', '0.077', '0.077', '0.077', '0.075', '0.075', '0.075', '0.075', '0.075', '0.075', '0.075', '0.075', '0.075', '0.075', '0.075', '0.075', '0.075', '0.073', '0.073', '0.073', '0.073', '0.073', '0.073', '0.073', '0.073', '0.073', '0.073', '0.073', '0.073']\n"
     ]
    }
   ],
   "source": [
    "## 处理拟合数据和实验数据 ##\n",
    "fitting_data = np.array(data['fitting data'].values.tolist()[53:])\n",
    "experiment_data= np.array(data['experiment data'].values.tolist()[53:])\n",
    "\n",
    "fitting_time= np.array(data['fitting time'].values.tolist()[53:])\n",
    "experiment_time= np.array(data['experiment time'].values.tolist()[53:])\n",
    "\n",
    "# 根据拟合数据的变化，将实验数据分成上升和下降阶段，并对这些阶段的数据进行相应处理\n",
    "# 在此处分别保存实验过程的8次激发和衰减值变化的一维数组为一个列表，并使用一个列表存储全部的子列表\n",
    "\n",
    "find_up_time = [0]\n",
    "init_time_fit = fitting_time[0]\n",
    "init_time_experiment = experiment_time[0]\n",
    "for i in range(fitting_time.shape[0]):\n",
    "    fitting_time[i] -= init_time_fit\n",
    "    experiment_time[i] -= init_time_experiment\n",
    "    if i != fitting_time.shape[0]-1 and i!=0:\n",
    "        if fitting_data[i+1]>fitting_data[i] and fitting_data[i]<=fitting_data[i-1]:\n",
    "            find_up_time.append(i)\n",
    "up_matrix_experiment = []\n",
    "up_list_fit = []\n",
    "down_matrix_experiment = []\n",
    "temp_down = []\n",
    "init_value = 0\n",
    "i = 0\n",
    "while i < fitting_time.shape[0]:\n",
    "\n",
    "    if i in find_up_time:\n",
    "        for j in range(1,len(temp_down),1):\n",
    "            temp_down[j] = temp_down[j]/init_value\n",
    "        down_matrix_experiment.append(temp_down)\n",
    "        temp_down = [1.0]\n",
    "        \n",
    "        temp_up = []\n",
    "        temp_up2 = []\n",
    "        while experiment_data[i]<experiment_data[i+1]:\n",
    "            temp_up.append(experiment_data[i])\n",
    "            temp_up2.append(fitting_data[i])\n",
    "            i+=1\n",
    "        temp_up.append(experiment_data[i])\n",
    "        temp_up2.append(fitting_data[i])\n",
    "        \n",
    "        init_value = experiment_data[i]\n",
    "        \n",
    "        temp = temp_up[0]\n",
    "        for j in range(len(temp_up)):\n",
    "            temp_up[j] -= temp\n",
    "        up_matrix_experiment.append(temp_up)\n",
    "        if len(up_list_fit) == 0 :\n",
    "            up_list_fit = temp_up2\n",
    "    else:\n",
    "        temp_down.append(experiment_data[i])\n",
    "    i+=1\n",
    "    \n",
    "for i in range(1,len(temp_down),1):\n",
    "    temp_down[i] = temp_down[i]/init_value\n",
    "down_matrix_experiment.append(temp_down)\n",
    "down_matrix_experiment.remove(down_matrix_experiment[0])\n",
    "# print(up_list_fit)\n",
    "# print(down_list_fit)\n",
    "for i in range(len(down_matrix_experiment)):\n",
    "    print([f\"{value:.3f}\" for value in up_matrix_experiment[i]])\n",
    "    print([f\"{value:.3f}\" for value in down_matrix_experiment[i]])"
   ]
  },
  {
   "cell_type": "code",
   "execution_count": 9,
   "id": "e915def9-59fc-4ccd-9666-2d993a41f685",
   "metadata": {
    "execution": {
     "iopub.execute_input": "2024-07-27T13:45:53.653416Z",
     "iopub.status.busy": "2024-07-27T13:45:53.653416Z",
     "iopub.status.idle": "2024-07-27T13:45:53.661452Z",
     "shell.execute_reply": "2024-07-27T13:45:53.661452Z",
     "shell.execute_reply.started": "2024-07-27T13:45:53.653416Z"
    },
    "tags": []
   },
   "outputs": [],
   "source": [
    "# 根据时间计算衰减率\n",
    "down = scio.loadmat('../down.mat')[\"p2\"][0]\n",
    "def caculate_signal_down(x,down):\n",
    "    down_ratio = down[0] * math.exp(-down[1]*x) + down[2] + \\\n",
    "                 down[3] * math.exp(-down[4]*x) + down[5] + \\\n",
    "                 down[6] * math.exp(-down[7]*x) + down[8]\n",
    "    return down_ratio\n",
    "down_list_fit = []\n",
    "for i in fitting_time:\n",
    "    down_list_fit.append(caculate_signal_down(i,down))\n",
    "# print(down_list_fit)"
   ]
  },
  {
   "cell_type": "code",
   "execution_count": 10,
   "id": "c9a09696-f1fc-462b-bf19-7e3d6b70d32e",
   "metadata": {
    "execution": {
     "iopub.execute_input": "2024-07-27T13:45:55.322264Z",
     "iopub.status.busy": "2024-07-27T13:45:55.322264Z",
     "iopub.status.idle": "2024-07-27T13:45:56.046446Z",
     "shell.execute_reply": "2024-07-27T13:45:56.046446Z",
     "shell.execute_reply.started": "2024-07-27T13:45:55.322264Z"
    },
    "tags": []
   },
   "outputs": [
    {
     "name": "stderr",
     "output_type": "stream",
     "text": [
      "C:\\Users\\Lenovo\\AppData\\Local\\Temp\\ipykernel_22752\\3741467133.py:32: UserWarning: set_ticklabels() should only be used with a fixed number of ticks, i.e. after set_ticks() or using a FixedLocator.\n",
      "  ax.set_xticklabels(ax.get_xticklabels(),color = 'black', weight = 'bold')\n",
      "C:\\Users\\Lenovo\\AppData\\Local\\Temp\\ipykernel_22752\\3741467133.py:33: UserWarning: set_ticklabels() should only be used with a fixed number of ticks, i.e. after set_ticks() or using a FixedLocator.\n",
      "  ax.set_yticklabels(ax.get_yticklabels(),color = 'black', weight = 'bold')\n"
     ]
    },
    {
     "data": {
      "image/png": "[encoded data removed]",
      "text/plain": [
       "<Figure size 400x400 with 1 Axes>"
      ]
     },
     "metadata": {},
     "output_type": "display_data"
    }
   ],
   "source": [
    "## 绘制衰减率曲线（已废弃绘制上升率曲线） ##\n",
    "\n",
    "def getColor(num_colors,index):\n",
    "    colormap = plt.cm.cool\n",
    "    color_values = np.linspace(0, 1, num_colors)\n",
    "    colors_list = [colormap(value) for value in color_values]\n",
    "    return colors_list[index]\n",
    "\n",
    "def draw_attenuation_rate(down_matrix_experiment,down_list_fit):\n",
    "    time_sequence = np.arange(0,len(down_matrix_experiment[0])/5,0.2)\n",
    "    \n",
    "    # 设置字体为Times New Roman\n",
    "    plt.rc('font',family='Times New Roman')\n",
    "    # 图像绘制，创建画布\n",
    "    fig, ax = plt.subplots(figsize=(4,4))\n",
    "    \n",
    "    for i in range(len(down_matrix_experiment)):\n",
    "        ax.plot(time_sequence, down_matrix_experiment[i][0:len(down_matrix_experiment[0])], color=getColor(10,i), label=str(i+1), linewidth = 2)\n",
    "    ax.plot(time_sequence,down_list_fit[0:len(down_matrix_experiment[0])],color='red', label='Fitting curve', linewidth = 2)\n",
    "    \n",
    "    # 设置主刻度\n",
    "    ax.tick_params(axis='x', direction='in', which='major', length=3, width=0.8)\n",
    "    ax.tick_params(axis='y', direction='in', which='major', length=3, width=0.8)\n",
    "\n",
    "    # 设置并激活次要刻度\n",
    "    ax.minorticks_on()\n",
    "    ax.tick_params(axis='x', direction='in', which='minor', length=1.5, width=0.8)\n",
    "    ax.tick_params(axis='y', direction='in', which='minor', length=1.5, width=0.8)\n",
    "    \n",
    "    ax.set_xticklabels(ax.get_xticklabels(),color = 'black', weight = 'bold')\n",
    "    ax.set_yticklabels(ax.get_yticklabels(),color = 'black', weight = 'bold')\n",
    "    \n",
    "    plt.xlabel('Time(s)', fontsize = 10, color = 'black', weight = 'bold')\n",
    "    plt.ylabel('Decay rate',fontsize = 10, color = 'black', weight = 'bold')\n",
    "    \n",
    "    f = fm.FontProperties(weight ='bold')\n",
    "    plt.legend(loc='upper right', fontsize=9, bbox_to_anchor=(1,0.9), frameon=False, prop = f)\n",
    "    \n",
    "    ax.spines['bottom'].set_color('black')\n",
    "    ax.spines['left'].set_color('black')\n",
    "    ax.spines['top'].set_color('black')\n",
    "    ax.spines['right'].set_color('black')\n",
    "    ax.spines['bottom'].set_visible(True)\n",
    "    ax.spines['left'].set_visible(True)\n",
    "    ax.spines['top'].set_visible(True)\n",
    "    ax.spines['right'].set_visible(True)\n",
    "    ax.spines['bottom'].set_linewidth(1.2)  \n",
    "    ax.spines['left'].set_linewidth(1.2)  \n",
    "    ax.spines['top'].set_linewidth(1.2)    \n",
    "    ax.spines['right'].set_linewidth(1.2)\n",
    "    \n",
    "    \n",
    "    plt.text(6, 0.95, 'f = 0.1 Hz', fontsize=10, color = 'black', weight = 'bold')\n",
    "    \n",
    "    plt.savefig(save_image_file + 'Decay_rate.tiff', bbox_inches = 'tight', pad_inches = 0.05, dpi = 600)\n",
    "    plt.savefig(save_image_file + 'Decay_rate.eps', bbox_inches = 'tight', pad_inches = 0.05)\n",
    "    plt.show()\n",
    "    plt.rcdefaults()\n",
    "draw_attenuation_rate(down_matrix_experiment,down_list_fit)\n",
    "\n",
    "# 衰减率信息保存为excel\n",
    "columns_list = ['1','2','3','4','5','6','7','8','Fitting curve']\n",
    "df = pd.DataFrame(data = np.zeros((len(down_matrix_experiment[0]),len(columns_list))) ,columns = columns_list)\n",
    "\n",
    "for i in range(len(down_matrix_experiment)):\n",
    "    for j in range(len(down_matrix_experiment[0])):\n",
    "        df.iloc[j,i] = down_matrix_experiment[i][j]\n",
    "        \n",
    "for i in range(len(down_matrix_experiment[0])):\n",
    "    df.iloc[i,8] = down_list_fit[i]\n",
    "with pd.ExcelWriter(save_data_file+'Leakage_rate.xlsx') as writer:\n",
    "    df.to_excel(writer, sheet_name='Sheet1', index=True)\n",
    "    "
   ]
  },
  {
   "cell_type": "code",
   "execution_count": 11,
   "id": "254ab404-4fe0-4417-aaf8-38d11f231b22",
   "metadata": {
    "execution": {
     "iopub.execute_input": "2024-07-27T13:45:58.038404Z",
     "iopub.status.busy": "2024-07-27T13:45:58.037414Z",
     "iopub.status.idle": "2024-07-27T13:45:58.046087Z",
     "shell.execute_reply": "2024-07-27T13:45:58.046087Z",
     "shell.execute_reply.started": "2024-07-27T13:45:58.038404Z"
    },
    "tags": []
   },
   "outputs": [
    {
     "name": "stdout",
     "output_type": "stream",
     "text": [
      "14.150197628458498\n",
      "15.128940638277633\n",
      "23.703913053990608\n",
      "0.920123864317293\n",
      "0.10552037457221261\n"
     ]
    }
   ],
   "source": [
    "## 计算拟合数据和实验数据之间的误差和关系系数 ##\n",
    "\n",
    "# 计算平均绝对误差\n",
    "print(mean_absolute_error(fitting_data,experiment_data))\n",
    "\n",
    "# 计算平均相对误差\n",
    "epsilon = np.finfo(np.float64).eps\n",
    "relative_errors = np.abs(fitting_data - experiment_data) / np.maximum(np.abs(experiment_data), epsilon)\n",
    "print(np.mean(relative_errors) * 100)\n",
    "\n",
    "# 计算均方根误差\n",
    "print(np.sqrt(mean_squared_error(fitting_data,experiment_data)))\n",
    "\n",
    "# 计算r方\n",
    "print(r2_score(fitting_data,experiment_data))\n",
    "\n",
    "# 计算平均绝对百分比误差\n",
    "print(mean_absolute_percentage_error(fitting_data,experiment_data))"
   ]
  }
 ],
 "metadata": {
  "kernelspec": {
   "display_name": "python39",
   "language": "python",
   "name": "python39"
  },
  "language_info": {
   "codemirror_mode": {
    "name": "ipython",
    "version": 3
   },
   "file_extension": ".py",
   "mimetype": "text/x-python",
   "name": "python",
   "nbconvert_exporter": "python",
   "pygments_lexer": "ipython3",
   "version": "3.9.2"
  }
 },
 "nbformat": 4,
 "nbformat_minor": 5
}
