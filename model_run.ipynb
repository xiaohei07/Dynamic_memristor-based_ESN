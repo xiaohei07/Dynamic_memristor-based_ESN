{
 "cells": [
  {
   "cell_type": "code",
   "execution_count": 1,
   "id": "a8e4cacb-b14e-4430-a9e8-04e084b54595",
   "metadata": {
    "execution": {
     "iopub.execute_input": "2024-03-18T15:52:23.536422Z",
     "iopub.status.busy": "2024-03-18T15:52:23.536422Z",
     "iopub.status.idle": "2024-03-18T15:52:35.176127Z",
     "shell.execute_reply": "2024-03-18T15:52:35.175135Z",
     "shell.execute_reply.started": "2024-03-18T15:52:23.536422Z"
    },
    "tags": []
   },
   "outputs": [],
   "source": [
    "import numpy as np\n",
    "\n",
    "# 导入time库，主要用于计算训练和测试时间\n",
    "import time\n",
    "\n",
    "# 导入math库，主要使用其一些函数，比如取整函数、指数函数\n",
    "import math\n",
    "\n",
    "# 导入scipy.io库，主要用于读取matlab的mat文件\n",
    "import scipy.io as scio\n",
    "\n",
    "# 导入matplotlib.pyplot函数，用于绘制图片\n",
    "import matplotlib.pyplot as plt\n",
    "\n",
    "# 导入Image函数，用于旋转图片\n",
    "from PIL import Image\n",
    "\n",
    "# 导入clone函数，用于创建某个模型的深拷贝\n",
    "from sklearn.base import clone\n",
    "\n",
    "# 导入train_test_split函数，用于分割训练集和测试集\n",
    "from sklearn.model_selection import train_test_split\n",
    "\n",
    "# 导入concatenate_sequences函数，用于将图片和分类转为特定的ndarray数组\n",
    "from pyrcn.util import concatenate_sequences\n",
    "\n",
    "# 导入pyrcn的增量回归器\n",
    "from pyrcn.linear_model import IncrementalRegression\n",
    "\n",
    "# 导入LabelBinarizer类，对y快速进行one-hot编码\n",
    "from sklearn.preprocessing import LabelBinarizer\n",
    "\n",
    "# 导入MatrixToValueProjection类，用于将矩阵投影到值\n",
    "from pyrcn.projection import MatrixToValueProjection\n",
    "\n",
    "# 导入sklearn库的load_digits函数，用于加载手写数字数据集\n",
    "from sklearn.datasets import load_digits as sklearn_load_digits\n",
    "\n",
    "# 导入accuracy_score函数，用于计算分类准确度\n",
    "from pyrcn.metrics import accuracy_score"
   ]
  },
  {
   "cell_type": "code",
   "execution_count": 2,
   "id": "9d9a2a73-64dd-413b-a866-cb3d376df8a5",
   "metadata": {
    "execution": {
     "iopub.execute_input": "2024-03-18T15:52:35.178120Z",
     "iopub.status.busy": "2024-03-18T15:52:35.177123Z",
     "iopub.status.idle": "2024-03-18T15:52:35.581968Z",
     "shell.execute_reply": "2024-03-18T15:52:35.581354Z",
     "shell.execute_reply.started": "2024-03-18T15:52:35.178120Z"
    },
    "tags": []
   },
   "outputs": [
    {
     "name": "stdout",
     "output_type": "stream",
     "text": [
      "[[0. 0. 0. 1. 1. 1. 0. 0.]\n",
      " [0. 0. 1. 1. 1. 1. 1. 0.]\n",
      " [0. 0. 1. 1. 0. 1. 1. 0.]\n",
      " [0. 0. 1. 0. 0. 1. 1. 0.]\n",
      " [0. 0. 1. 0. 0. 1. 1. 0.]\n",
      " [0. 0. 1. 0. 0. 1. 0. 0.]\n",
      " [0. 0. 1. 1. 1. 1. 0. 0.]\n",
      " [0. 0. 0. 1. 1. 0. 0. 0.]]\n"
     ]
    },
    {
     "data": {
      "image/png": "[encoded data removed]",
      "text/plain": [
       "<Figure size 100x100 with 1 Axes>"
      ]
     },
     "metadata": {},
     "output_type": "display_data"
    },
    {
     "data": {
      "image/png": "[encoded data removed]",
      "text/plain": [
       "<Figure size 100x100 with 1 Axes>"
      ]
     },
     "metadata": {},
     "output_type": "display_data"
    },
    {
     "data": {
      "image/png": "[encoded data removed]",
      "text/plain": [
       "<Figure size 200x200 with 1 Axes>"
      ]
     },
     "metadata": {},
     "output_type": "display_data"
    },
    {
     "name": "stdout",
     "output_type": "stream",
     "text": [
      "Label:0\n"
     ]
    },
    {
     "data": {
      "image/png": "[encoded data removed]",
      "text/plain": [
       "<Figure size 200x200 with 1 Axes>"
      ]
     },
     "metadata": {},
     "output_type": "display_data"
    },
    {
     "name": "stdout",
     "output_type": "stream",
     "text": [
      "Label:0\n",
      "Number of digits: 1797\n",
      "Shape of digits (8, 8)\n"
     ]
    }
   ],
   "source": [
    "##  加载手写数字数据集  ##\n",
    "# return_X_y设置为True，函数返回一个包含数据矩阵和目标向量的元组 (data, target)\n",
    "# as_sequence是布尔值，默认为False，如果设置为True，则返回数据矩阵和目标向量的序列\n",
    "# as_sequence设置后，对应的是一维narray数组，每个数据点的图像以8x8矩阵的形式表示，\n",
    "# as_sequence设置后，访问时元素只能使用一维索引访问，再对该元素根据矩阵索引访问，不能直接二维索引访问\n",
    "# 另外有as_frame，是一个布尔值，默认为False，如果设置为True，则返回数据和目标作为pandas DataFrame或Series。\n",
    "\n",
    "# 二值化图像\n",
    "X_ori, y_ori = sklearn_load_digits(n_class=10, return_X_y=True, as_frame=False)\n",
    "for i in range(len(X_ori)):\n",
    "    X_ori[i] = np.where(X_ori[i] <= 5, 0, 1)\n",
    "X = np.empty(shape=(X_ori.shape[0],), dtype=object)\n",
    "y = np.empty(shape=(X_ori.shape[0],), dtype=object)\n",
    "for k, (X_single, y_single) in enumerate(zip(X_ori, y_ori)):\n",
    "    X[k] = X_single.reshape(8, 8).T\n",
    "    y[k] = np.atleast_1d(y_single)\n",
    "\n",
    "# 未二值化的灰度图像\n",
    "X_ori2, y_ori2 = sklearn_load_digits(n_class=10, return_X_y=True, as_frame=False)\n",
    "X2 = np.empty(shape=(X_ori2.shape[0],), dtype=object)\n",
    "y2 = np.empty(shape=(X_ori2.shape[0],), dtype=object)\n",
    "for k, (X_single, y_single) in enumerate(zip(X_ori2, y_ori2)):\n",
    "    X2[k] = X_single.reshape(8, 8).T\n",
    "    y2[k] = np.atleast_1d(y_single)   \n",
    "    \n",
    "\n",
    "# 查看结果\n",
    "start_index = 10\n",
    "end_index = 11\n",
    "step = 1\n",
    "for test_id in range(start_index,end_index,step):\n",
    "    \n",
    "    # print(y[test_id])\n",
    "    # print(X2.loc[0,['pixel_0_4']])\n",
    "    # print(y2[0:100])\n",
    "    # 原始图片需要顺时针旋转90度再水平翻转才是正确结果\n",
    "    img_show = np.flip(np.rot90(X[test_id],k=-1),1)\n",
    "    print(img_show)\n",
    "    # 展示图片，不要太大\n",
    "    plt.figure(figsize=(1,1))\n",
    "    # 输出其对应的灰度图\n",
    "    plt.imshow(img_show,cmap='gray')\n",
    "    plt.show()\n",
    "    # 输出其对应的颜色图\n",
    "    plt.figure(figsize=(1,1))\n",
    "    plt.imshow(img_show)\n",
    "    plt.show()\n",
    "    \n",
    "    # print(y2[test_id])\n",
    "    # 原始图片需要顺时针旋转90度再水平翻转才是正确结果\n",
    "    # img_show = np.flip(np.rot90(X2[test_id],k=-1),1)\n",
    "    # print(img_show)\n",
    "    # # 展示图片，不要太大\n",
    "    # plt.figure(figsize=(1,1))\n",
    "    # # 输出其对应的灰度图\n",
    "    # plt.imshow(img_show,cmap='gray')\n",
    "    # plt.show()\n",
    "    # 输出其对应的颜色图\n",
    "    # plt.figure(figsize=(1,1))\n",
    "    # plt.imshow(img_show)\n",
    "    # plt.show()\n",
    "    \n",
    "    img_show=np.flip(np.rot90(X[test_id],k=-1),1)\n",
    "    fig, ax = plt.subplots(figsize=(2,2))\n",
    "    ax.imshow(img_show, interpolation='nearest',cmap='gray')\n",
    "    plt.xticks(np.arange(0,8,1),['1','2','3','4','5','6','7','8'])\n",
    "    plt.yticks(np.arange(0,8,1),['1','2','3','4','5','6','7','8'])\n",
    "    plt.tight_layout()\n",
    "    # plt.savefig('0.png')\n",
    "    plt.show()\n",
    "    print(\"Label:\",y[test_id][0],sep=\"\")\n",
    "    \n",
    "    \n",
    "    img_show=np.flip(np.rot90(X2[test_id],k=-1),1)\n",
    "    fig, ax = plt.subplots(figsize=(2,2))\n",
    "    ax.imshow(img_show, interpolation='nearest',cmap='gray')\n",
    "    plt.xticks(np.arange(0,8,1),['1','2','3','4','5','6','7','8'])\n",
    "    plt.yticks(np.arange(0,8,1),['1','2','3','4','5','6','7','8'])\n",
    "    plt.tight_layout()\n",
    "    # plt.savefig('0init.png')\n",
    "    plt.show()\n",
    "    print(\"Label:\",y[test_id][0],sep=\"\")\n",
    "    \n",
    "# 输出数据集图片数量和图片大小\n",
    "print(\"Number of digits: {0}\".format(len(X)))\n",
    "print(\"Shape of digits {0}\".format(X[test_id].shape))"
   ]
  },
  {
   "cell_type": "code",
   "execution_count": 3,
   "id": "c823da10-9f3b-4115-a93c-106e2655db1d",
   "metadata": {
    "execution": {
     "iopub.execute_input": "2024-03-18T15:52:35.582967Z",
     "iopub.status.busy": "2024-03-18T15:52:35.582967Z",
     "iopub.status.idle": "2024-03-18T15:52:35.628871Z",
     "shell.execute_reply": "2024-03-18T15:52:35.628871Z",
     "shell.execute_reply.started": "2024-03-18T15:52:35.582967Z"
    },
    "tags": []
   },
   "outputs": [
    {
     "name": "stdout",
     "output_type": "stream",
     "text": [
      "[0 1 2 ... 8 9 8]\n",
      "[5 5 5 5 5 5 5 5]\n",
      "Number of digits in training set: 1437\n",
      "Shape of digits in training set: (8, 8)\n",
      "Number of digits in test set: 360\n",
      "Shape of digits in test set: (8, 8)\n"
     ]
    }
   ],
   "source": [
    "# 将y中所有的单个值数组元素转为单个值，去掉元素内的数组包装\n",
    "# 即对y进行如下转化：一维数组元素为一维数组->一维数组元素为值\n",
    "stratify = np.asarray([np.unique(yt) for yt in y]).flatten()\n",
    "\n",
    "# 将数据集乱序，分割为训练集和测试集\n",
    "X_train, X_test, y_train, y_test = train_test_split(\n",
    "    X, y, test_size=0.2, stratify=stratify, random_state=42)\n",
    "\n",
    "# 对训练集和测试集的数据进行深拷贝\n",
    "X_tr = np.copy(X_train)\n",
    "y_tr = np.copy(y_train)\n",
    "X_te = np.copy(X_test)\n",
    "y_te = np.copy(y_test)\n",
    "\n",
    "# 遍历目标向量，每个元素从单个值扩展为1*8的数组元素\n",
    "# 用于将值转化为一个序列，使得该问题转变为序列到序列的问题\n",
    "for k, _ in enumerate(y_tr):\n",
    "    y_tr[k] = np.repeat(y_tr[k], 8, 0)\n",
    "for k, _ in enumerate(y_te):\n",
    "    y_te[k] = np.repeat(y_te[k], 8, 0)\n",
    "\n",
    "stratify2 = np.asarray([np.unique(yt) for yt in y2]).flatten()\n",
    "# 将数据集乱序，分割为训练集和测试集\n",
    "X_train2, X_test2, y_train2, y_test2 = train_test_split(\n",
    "    X2, y2, test_size=0.2, stratify=stratify2, random_state=42)\n",
    "# 对训练集和测试集的数据进行深拷贝\n",
    "X_tr2 = np.copy(X_train2)\n",
    "y_tr2 = np.copy(y_train2)\n",
    "X_te2 = np.copy(X_test2)\n",
    "y_te2 = np.copy(y_test2)\n",
    "for k, _ in enumerate(y_tr2):\n",
    "    y_tr2[k] = np.repeat(y_tr2[k], 8, 0)\n",
    "for k, _ in enumerate(y_te2):\n",
    "    y_te2[k] = np.repeat(y_te2[k], 8, 0)\n",
    "    \n",
    "    \n",
    "# 输出一维ndarray值\n",
    "print(stratify)\n",
    "# 输出单个目标向量元素\n",
    "print(y_tr[0])\n",
    "# 输出训练集、测试集数据数量和图片大小\n",
    "print(\"Number of digits in training set: {0}\".format(len(X_train)))\n",
    "print(\"Shape of digits in training set: {0}\".format(X_train[0].shape))\n",
    "print(\"Number of digits in test set: {0}\".format(len(X_test)))\n",
    "print(\"Shape of digits in test set: {0}\".format(X_test[0].shape))"
   ]
  },
  {
   "cell_type": "code",
   "execution_count": 4,
   "id": "086d7e4e-0a19-4b05-9b5a-2fca6e0011fc",
   "metadata": {
    "execution": {
     "iopub.execute_input": "2024-03-18T15:52:35.630866Z",
     "iopub.status.busy": "2024-03-18T15:52:35.629869Z",
     "iopub.status.idle": "2024-03-18T15:52:35.659832Z",
     "shell.execute_reply": "2024-03-18T15:52:35.659832Z",
     "shell.execute_reply.started": "2024-03-18T15:52:35.630866Z"
    },
    "tags": []
   },
   "outputs": [],
   "source": [
    "class image_to_signal:\n",
    "    # 初始化函数\n",
    "    def __init__(self,\n",
    "                X_signal : np.array = None,\n",
    "                Y_result : np.array = None,\n",
    "                N_res : int = 50,\n",
    "                K_in : int = -1,\n",
    "                pulse_time : float = 1,\n",
    "                time_frame : float = 3,\n",
    "                interval_time : float = 2, \n",
    "                sparsity : float = -1):\n",
    "        '''\n",
    "        X_signal: 输入的图片，经过了二级化处理，可以根据像素确定是否有信号\n",
    "        Y_result: 图片的分类结果，已进行了预处理后的图片，用于训练的拟合\n",
    "        N_res: 隐藏层神经元数量，对应忆阻器的数量\n",
    "        K_in: 稀疏性，对应的是每个忆阻器读取的每行图片元素数量\n",
    "        pulse_time: 脉冲时间长度，对应的是单个信号的激活时间\n",
    "        time_frame: 时间帧长度，对应的是单个信号的激活和衰减时间\n",
    "        interval_time: 时间步间隔长度，对应的是每个\n",
    "        sparsity: 稀疏性，对应的是每个忆阻器读取的每行图片元素数量比例\n",
    "        '''\n",
    "        # 根据mat文件设置激活信号的值计算和衰减值的计算\n",
    "        self.up = scio.loadmat('./up.mat')[\"p\"][0]\n",
    "        self.down = scio.loadmat('./down.mat')[\"p2\"][0]\n",
    "        \n",
    "        # 记录忆阻器数量\n",
    "        self.N_res = N_res\n",
    "        \n",
    "        # 记录脉冲时间长度，时间帧长度和时间步的间隔长度\n",
    "        self.pulse_time = pulse_time\n",
    "        self.time_frame = time_frame\n",
    "        self.interval_time = interval_time\n",
    "        \n",
    "        # 记录稀疏性和稀疏性比例\n",
    "        self.K_in = K_in\n",
    "        self.sparsity = sparsity\n",
    "        \n",
    "        # 对储备池状态信息进行拟合，使用回归器\n",
    "        self.regressor = IncrementalRegression(alpha=1e-4)\n",
    "        # 使用LabelBinarizer对分类进行one-hot编码\n",
    "        self._encoder = LabelBinarizer()\n",
    "        \n",
    "        # 调用init_use函数，可以多次初始化输入图片和分类结果\n",
    "        self.init_use(X_signal,Y_result)\n",
    "        \n",
    "        \n",
    "    #初始化使用函数，参数同上\n",
    "    def init_use(self,\n",
    "                X_signal : np.array = None,\n",
    "                Y_result : np.array = None):\n",
    "        \n",
    "        # 记录输入图片和对应分类\n",
    "        self.input = X_signal\n",
    "        self.res = Y_result\n",
    "        \n",
    "        # 根据输入的图片大小计算时间步数量、时间帧数量和输入图片的特征数(即每行像素数量)\n",
    "        self.num_step = self.input[0].shape[0]\n",
    "        self.num_frame = self.input[0].shape[1]\n",
    "        self.N_features = self.input[0].shape[1]\n",
    "\n",
    "        if self.K_in > 0:\n",
    "            if self.K_in <=  self.N_features:\n",
    "                self.num_frame = self.K_in\n",
    "        elif self.sparsity > 0:\n",
    "            self.num_frame = math.ceil(self.sparsity*self.num_frame)\n",
    "        \n",
    "        # 根据稀疏性随机选择每行部分像素形成脉冲\n",
    "        self.random_sequence = np.zeros(shape = (self.N_res,self.num_step,self.num_frame), dtype=int)\n",
    "        for i in range(self.N_res):\n",
    "            for j in range(self.num_step):\n",
    "                self.random_sequence[i][j] = np.sort(np.random.permutation(self.N_features)[0:self.num_frame])\n",
    "        \n",
    "        # 记录忆阻器对应的储备池状态信息\n",
    "        self.hidden_layer_state = np.ndarray(shape = (self.input.shape[0]),dtype = object)\n",
    "        for i in range(self.hidden_layer_state.shape[0]):\n",
    "            self.hidden_layer_state[i] = np.zeros(shape = (self.num_step,self.N_res),dtype = float)\n",
    "        self.state_index = 0\n",
    "        \n",
    "        # 完成上述处理后，将输入图片和对应分类进行序列连接，得到相应的连续ndarray数组，用于进一步处理\n",
    "        self.input,self.res,self.sequence_ranges = concatenate_sequences(self.input,\n",
    "                                                                         self.res,\n",
    "                                                                         sequence_to_value = False)\n",
    "        \n",
    "    # 定义脉冲激活函数\n",
    "    def caculate_pulse_up(self,value):\n",
    "        x = self.pulse_time\n",
    "        up_value = self.up[0]* x**5 + \\\n",
    "                self.up[1]* x**4 + \\\n",
    "                self.up[2]* x**3 + \\\n",
    "                self.up[3]* x**2 + \\\n",
    "                self.up[4]* x + self.up[5]\n",
    "        return value + up_value\n",
    "    \n",
    "    # 定义衰减函数,在遇到激活信号时进行时间结算,或者计算隐藏层状态信号\n",
    "    def caculate_signal_down(self,value,have_down_time):\n",
    "        x = have_down_time\n",
    "        down_ratio = self.down[0] * math.exp(-self.down[1]*x) + self.down[2] + \\\n",
    "                     self.down[3] * math.exp(-self.down[4]*x) + self.down[5] + \\\n",
    "                     self.down[6] * math.exp(-self.down[7]*x) + self.down[8]\n",
    "        return value * down_ratio\n",
    "    \n",
    "    # 定义时间帧计算函数\n",
    "    def caculate_time_frame(self,value,have_down_time,signal):\n",
    "        if signal == 0:\n",
    "            return value, have_down_time + self.time_frame\n",
    "        else:\n",
    "            value = self.caculate_signal_down(value,have_down_time)\n",
    "            value = self.caculate_pulse_up(value)\n",
    "            return value, self.time_frame - self.pulse_time\n",
    "         \n",
    "    # 定义时间步计算函数\n",
    "    def caculate_time_step(self,value,have_down_time,image_row,random_sequence):\n",
    "        for i in range(random_sequence.shape[0]):\n",
    "            value,have_down_time = self.caculate_time_frame(value,\n",
    "                                                       have_down_time,\n",
    "                                                       image_row[random_sequence[i]])\n",
    "        return value, have_down_time\n",
    "    \n",
    "    # 定义忆阻器读取状态计算函数，对应储备池的神经元状态信息\n",
    "    # 每次读取一张图片进行记录\n",
    "    def caculate_hidden_layer_state(self, X: np.ndarray = None, \n",
    "                                    hidden_layer_state: np.ndarray = None,\n",
    "                                    state_index: int = 0):\n",
    "        # # 清空储备池的信息\n",
    "        # self.hidden_layer_state = np.zeros(shape = (self.num_step,self.N_res),dtype = float)\n",
    "        \n",
    "        # # i循环是图片\n",
    "        # for i in range(int(self.input.shape[0]/self.num_step)):\n",
    "        # j循环是忆阻器群\n",
    "        for j in range(self.N_res):\n",
    "            # value是输入新的时间步时忆阻器的当前信号值\n",
    "            value = 0.0\n",
    "            # have_down_time是从上次激活开始的总衰减时间\n",
    "            have_down_time = 0.0\n",
    "\n",
    "            # k循环是时间步\n",
    "            for k in range(self.num_step):\n",
    "                # 计算忆阻器读取图片特定行转换的信号后的信号值变化和已衰减时间变化\n",
    "                # 如没有激活信号，则信号不变，改变已衰减时间，从而在需要时计算新的激活前信号值\n",
    "                value,have_down_time = self.caculate_time_step(value,\n",
    "                                                          have_down_time,\n",
    "                                                          X[k],\n",
    "                                                          # self.input[i*self.num_step+k],\n",
    "                                                          self.random_sequence[j][k])\n",
    "                # 根据变化后的情况计算隐藏层状态\n",
    "                # self.hidden_layer_state[i][k][j] = self.caculate_signal_down(value,have_down_time)\n",
    "                hidden_layer_state[state_index][k][j] = self.caculate_signal_down(value,have_down_time)\n",
    "                # 根据时间步间隔时间修改已衰减时间\n",
    "                have_down_time += self.interval_time\n",
    "        return hidden_layer_state\n",
    "        \n",
    "    # 定义部分训练函数，用于计算序列的部分图片，保证逆矩阵的推迟计算\n",
    "    def partial_fit(self, \n",
    "                    X: np.ndarray = None, \n",
    "                    y: np.ndarray = None, \n",
    "                    postpone_inverse: bool = False):\n",
    "        # 计算输入图片对应的储备池信息\n",
    "        self.caculate_hidden_layer_state(X,self.hidden_layer_state,self.state_index)\n",
    "        # 对图片进行拟合\n",
    "        self.regressor.partial_fit(self.hidden_layer_state[self.state_index],y,postpone_inverse)\n",
    "        # 状态索引+1\n",
    "        self.state_index += 1\n",
    "\n",
    "        \n",
    "    # 定义训练函数,可以输入新的数据，也可以使用已有数据\n",
    "    # 注意使用新的数据会导致原有的数据被重置\n",
    "    def fit(self,\n",
    "            X_train : np.ndarray = None, \n",
    "            Y_train : np.ndarray = None):\n",
    "        # 修改输入的input和res\n",
    "        if X_train is not None and Y_train is not None:\n",
    "            self.init_use(X_train,y_train)\n",
    "        \n",
    "        # 对结果进行二进制编码，使用标签编码器,完成编码\n",
    "        self._encoder = LabelBinarizer().fit(self.res)\n",
    "        self.res = self._encoder.transform(self.res)\n",
    "        \n",
    "        # 拟合最后一张图片之前的图片，并推迟计算逆矩阵\n",
    "        [self.partial_fit(X = self.input[idx[0]:idx[1],...],\n",
    "                          y = self.res[idx[0]:idx[1],...],\n",
    "                          postpone_inverse=True)\n",
    "        for idx in self.sequence_ranges[:-1]]\n",
    "        \n",
    "        # 拟合最后一张不推迟逆矩阵的计算\n",
    "        self.partial_fit(X = self.input[self.sequence_ranges[-1][0]:, ...],\n",
    "                         y = self.res[self.sequence_ranges[-1][0]:, ...],\n",
    "                         postpone_inverse=False)\n",
    "        \n",
    "    # 定义预测函数\n",
    "    def predict(self, X_test: np.ndarray = None):\n",
    "        # 初始化临时的储备池，用于记录测试集的结果\n",
    "        hidden_layer_state = np.ndarray(shape = (X_test.shape[0]),dtype = object)\n",
    "        for i in range(hidden_layer_state.shape[0]):\n",
    "            hidden_layer_state[i] = np.zeros(shape = (self.num_step,self.N_res),dtype = float)\n",
    "        \n",
    "        # 记录图片索引\n",
    "        state_index = 0\n",
    "        \n",
    "        # 记录预测结果\n",
    "        y = np.empty(shape=X_test.shape, dtype=object)\n",
    "        \n",
    "        # 进行储备池计算\n",
    "        for i in range(len(X_test)):\n",
    "            self.caculate_hidden_layer_state(X_test[i], hidden_layer_state,state_index)\n",
    "            y[i] = self.regressor.predict(hidden_layer_state[i])\n",
    "            # 二进制标签分类转为多分类标签\n",
    "            y[i] = MatrixToValueProjection(\n",
    "                    output_strategy= \"winner_takes_all\")\\\n",
    "                    .fit_transform(y[i])\n",
    "            state_index += 1\n",
    "\n",
    "        # 返回预测结果\n",
    "        return y"
   ]
  },
  {
   "cell_type": "code",
   "execution_count": 5,
   "id": "d064eff2-6264-43fb-b793-570368a36608",
   "metadata": {
    "execution": {
     "iopub.execute_input": "2024-03-18T15:52:35.660831Z",
     "iopub.status.busy": "2024-03-18T15:52:35.660831Z",
     "iopub.status.idle": "2024-03-18T19:54:19.723280Z",
     "shell.execute_reply": "2024-03-18T19:54:19.714389Z",
     "shell.execute_reply.started": "2024-03-18T15:52:35.660831Z"
    },
    "tags": []
   },
   "outputs": [],
   "source": [
    "example = image_to_signal(X_signal = X_tr, Y_result= y_tr, N_res = 8000, K_in = 2,\n",
    "                          pulse_time = 1, time_frame = 4, interval_time = 2)\n",
    "example.fit()\n",
    "y_te_predict = example.predict(X_test = X_te)"
   ]
  },
  {
   "cell_type": "code",
   "execution_count": 6,
   "id": "820e3eb1-6923-4001-ad14-c6a512704e6d",
   "metadata": {
    "collapsed": true,
    "execution": {
     "iopub.execute_input": "2024-03-18T19:54:19.733247Z",
     "iopub.status.busy": "2024-03-18T19:54:19.732251Z",
     "iopub.status.idle": "2024-03-18T19:54:20.964684Z",
     "shell.execute_reply": "2024-03-18T19:54:20.962690Z",
     "shell.execute_reply.started": "2024-03-18T19:54:19.733247Z"
    },
    "jupyter": {
     "outputs_hidden": true
    },
    "tags": []
   },
   "outputs": [
    {
     "name": "stdout",
     "output_type": "stream",
     "text": [
      "acc_score:0.19444444444444445\n",
      "测试集的第20张手写数字图片:\n"
     ]
    },
    {
     "data": {
      "image/png": "[encoded data removed]",
      "text/plain": [
       "<Figure size 100x100 with 1 Axes>"
      ]
     },
     "metadata": {},
     "output_type": "display_data"
    },
    {
     "name": "stdout",
     "output_type": "stream",
     "text": [
      "正确标签结果:[6]\n",
      "预测结果:[6]\n",
      "\n",
      "测试集的第21张手写数字图片:\n"
     ]
    },
    {
     "data": {
      "image/png": "[encoded data removed]",
      "text/plain": [
       "<Figure size 100x100 with 1 Axes>"
      ]
     },
     "metadata": {},
     "output_type": "display_data"
    },
    {
     "name": "stdout",
     "output_type": "stream",
     "text": [
      "正确标签结果:[3]\n",
      "预测结果:[3]\n",
      "\n",
      "测试集的第22张手写数字图片:\n"
     ]
    },
    {
     "data": {
      "image/png": "[encoded data removed]",
      "text/plain": [
       "<Figure size 100x100 with 1 Axes>"
      ]
     },
     "metadata": {},
     "output_type": "display_data"
    },
    {
     "name": "stdout",
     "output_type": "stream",
     "text": [
      "正确标签结果:[8]\n",
      "预测结果:[8]\n",
      "\n",
      "测试集的第23张手写数字图片:\n"
     ]
    },
    {
     "data": {
      "image/png": "[encoded data removed]",
      "text/plain": [
       "<Figure size 100x100 with 1 Axes>"
      ]
     },
     "metadata": {},
     "output_type": "display_data"
    },
    {
     "name": "stdout",
     "output_type": "stream",
     "text": [
      "正确标签结果:[1]\n",
      "预测结果:[1]\n",
      "\n",
      "测试集的第24张手写数字图片:\n"
     ]
    },
    {
     "data": {
      "image/png": "[encoded data removed]",
      "text/plain": [
       "<Figure size 100x100 with 1 Axes>"
      ]
     },
     "metadata": {},
     "output_type": "display_data"
    },
    {
     "name": "stdout",
     "output_type": "stream",
     "text": [
      "正确标签结果:[2]\n",
      "预测结果:[2]\n",
      "\n",
      "测试集的第25张手写数字图片:\n"
     ]
    },
    {
     "data": {
      "image/png": "[encoded data removed]",
      "text/plain": [
       "<Figure size 100x100 with 1 Axes>"
      ]
     },
     "metadata": {},
     "output_type": "display_data"
    },
    {
     "name": "stdout",
     "output_type": "stream",
     "text": [
      "正确标签结果:[5]\n",
      "预测结果:[8]\n",
      "\n",
      "测试集的第26张手写数字图片:\n"
     ]
    },
    {
     "data": {
      "image/png": "[encoded data removed]",
      "text/plain": [
       "<Figure size 100x100 with 1 Axes>"
      ]
     },
     "metadata": {},
     "output_type": "display_data"
    },
    {
     "name": "stdout",
     "output_type": "stream",
     "text": [
      "正确标签结果:[6]\n",
      "预测结果:[1]\n",
      "\n",
      "测试集的第27张手写数字图片:\n"
     ]
    },
    {
     "data": {
      "image/png": "[encoded data removed]",
      "text/plain": [
       "<Figure size 100x100 with 1 Axes>"
      ]
     },
     "metadata": {},
     "output_type": "display_data"
    },
    {
     "name": "stdout",
     "output_type": "stream",
     "text": [
      "正确标签结果:[0]\n",
      "预测结果:[1]\n",
      "\n",
      "测试集的第28张手写数字图片:\n"
     ]
    },
    {
     "data": {
      "image/png": "[encoded data removed]",
      "text/plain": [
       "<Figure size 100x100 with 1 Axes>"
      ]
     },
     "metadata": {},
     "output_type": "display_data"
    },
    {
     "name": "stdout",
     "output_type": "stream",
     "text": [
      "正确标签结果:[3]\n",
      "预测结果:[8]\n",
      "\n",
      "测试集的第29张手写数字图片:\n"
     ]
    },
    {
     "data": {
      "image/png": "[encoded data removed]",
      "text/plain": [
       "<Figure size 100x100 with 1 Axes>"
      ]
     },
     "metadata": {},
     "output_type": "display_data"
    },
    {
     "name": "stdout",
     "output_type": "stream",
     "text": [
      "正确标签结果:[4]\n",
      "预测结果:[1]\n",
      "\n"
     ]
    }
   ],
   "source": [
    "# 展示测试集的测试结果:\n",
    "# print(y_te)\n",
    "# print(y_te_predict)\n",
    "acc_score = accuracy_score(y_test, y_te_predict)\n",
    "print(\"acc_score:\"+str(acc_score))\n",
    "# 展示部分图片的预测结果\n",
    "for i in range(20,30):\n",
    "    print(\"测试集的第\",i,\"张手写数字图片:\",sep=\"\")\n",
    "    # 原始图片需要顺时针旋转90度再水平翻转才是正确结果\n",
    "    img_show=np.flip(np.rot90(X_te[i],k=-1),1)\n",
    "    #展示图片，不要太大\n",
    "    plt.figure(figsize=(1,1))\n",
    "    plt.imshow(img_show)\n",
    "    # plt.imshow(img_show,cmap='gray')\n",
    "    plt.show()\n",
    "    print(\"正确标签结果:\",y_test[i],sep=\"\")\n",
    "    print(\"预测结果:\",y_te_predict[i],sep=\"\")\n",
    "    print()"
   ]
  },
  {
   "cell_type": "code",
   "execution_count": 7,
   "id": "750119c3-609f-4545-be5e-fb2fd3fd49ec",
   "metadata": {
    "execution": {
     "iopub.execute_input": "2024-02-21T14:23:06.666184Z",
     "iopub.status.busy": "2024-02-21T14:23:06.666184Z",
     "iopub.status.idle": "2024-02-21T14:23:06.707908Z",
     "shell.execute_reply": "2024-02-21T14:23:06.706887Z",
     "shell.execute_reply.started": "2024-02-21T14:23:06.666184Z"
    },
    "tags": []
   },
   "outputs": [],
   "source": [
    "# 处理灰度版本\n",
    "class image_to_signal_gray:\n",
    "    # 初始化函数\n",
    "    def __init__(self,\n",
    "                X_signal : np.array = None,\n",
    "                Y_result : np.array = None,\n",
    "                N_res : int = 50,\n",
    "                K_in : int = -1,\n",
    "                pulse_time : float = 1,\n",
    "                time_frame : float = 3,\n",
    "                interval_time : float = 2, \n",
    "                sparsity : float = -1):\n",
    "        '''\n",
    "        X_signal: 输入的图片，经过了二级化处理，可以根据像素确定是否有信号\n",
    "        Y_result: 图片的分类结果，已进行了预处理后的图片，用于训练的拟合\n",
    "        N_res: 隐藏层神经元数量，对应忆阻器的数量\n",
    "        K_in: 稀疏性，对应的是每个忆阻器读取的每行图片元素数量\n",
    "        pulse_time: 脉冲时间长度，对应的是单个信号的激活时间\n",
    "        time_frame: 时间帧长度，对应的是单个信号的激活和衰减时间\n",
    "        interval_time: 时间步间隔长度，对应的是每个\n",
    "        sparsity: 稀疏性，对应的是每个忆阻器读取的每行图片元素数量比例\n",
    "        '''\n",
    "        # 根据mat文件设置激活信号的值计算和衰减值的计算\n",
    "        self.up = scio.loadmat('./up.mat')[\"p\"][0]\n",
    "        self.down = scio.loadmat('./down.mat')[\"p2\"][0]\n",
    "        \n",
    "        # 记录忆阻器数量\n",
    "        self.N_res = N_res\n",
    "        \n",
    "        # 记录脉冲时间长度，时间帧长度和时间步的间隔长度\n",
    "        self.pulse_time = pulse_time\n",
    "        self.time_frame = time_frame\n",
    "        self.interval_time = interval_time\n",
    "        \n",
    "        # 记录脉冲对应的激活最大等级\n",
    "        self.max_rank = float(16)\n",
    "        \n",
    "        # 记录稀疏性和稀疏性比例\n",
    "        self.K_in = K_in\n",
    "        self.sparsity = sparsity\n",
    "        \n",
    "        # 对储备池状态信息进行拟合，使用回归器\n",
    "        self.regressor = IncrementalRegression(alpha=1e-4)\n",
    "        # 使用LabelBinarizer对分类进行one-hot编码\n",
    "        self._encoder = LabelBinarizer()\n",
    "        \n",
    "        # 调用init_use函数，可以多次初始化输入图片和分类结果\n",
    "        self.init_use(X_signal,Y_result)\n",
    "        \n",
    "        \n",
    "    #初始化使用函数，参数同上\n",
    "    def init_use(self,\n",
    "                X_signal : np.array = None,\n",
    "                Y_result : np.array = None):\n",
    "        \n",
    "        # 记录输入图片和对应分类\n",
    "        self.input = X_signal\n",
    "        self.res = Y_result\n",
    "        \n",
    "        # 根据输入的图片大小计算时间步数量、时间帧数量和输入图片的特征数(即每行像素数量)\n",
    "        self.num_step = self.input[0].shape[0]\n",
    "        self.num_frame = self.input[0].shape[1]\n",
    "        self.N_features = self.input[0].shape[1]\n",
    "        if self.K_in > 0:\n",
    "            if self.K_in <=  self.N_features:\n",
    "                self.num_frame = self.K_in\n",
    "        elif self.sparsity > 0:\n",
    "            self.num_frame = math.ceil(self.sparsity*self.num_frame)\n",
    "        \n",
    "        # 根据稀疏性随机选择每行部分像素形成脉冲\n",
    "        self.random_sequence = np.zeros(shape = (self.N_res,self.num_step,self.num_frame), dtype=int)\n",
    "        for i in range(self.N_res):\n",
    "            for j in range(self.num_step):\n",
    "                self.random_sequence[i][j] = np.sort(np.random.permutation(self.N_features)[0:self.num_frame])\n",
    "     \n",
    "        # 记录忆阻器对应的储备池状态信息\n",
    "        self.hidden_layer_state = np.ndarray(shape = (self.input.shape[0]),dtype = object)\n",
    "        for i in range(self.hidden_layer_state.shape[0]):\n",
    "            self.hidden_layer_state[i] = np.zeros(shape = (self.num_step,self.N_res),dtype = float)\n",
    "        self.state_index = 0\n",
    "        \n",
    "        # 完成上述处理后，将输入图片和对应分类进行序列连接，得到相应的连续ndarray数组，用于进一步处理\n",
    "        self.input,self.res,self.sequence_ranges = concatenate_sequences(self.input,\n",
    "                                                                         self.res,\n",
    "                                                                         sequence_to_value = False)\n",
    "        \n",
    "    # 定义脉冲激活函数\n",
    "    def caculate_pulse_up(self,value,rank):\n",
    "        # 根据脉冲对应的灰度等级计算激活时间\n",
    "        x = self.pulse_time*(rank/self.max_rank)\n",
    "        up_value = self.up[0]* x**5 + \\\n",
    "                self.up[1]* x**4 + \\\n",
    "                self.up[2]* x**3 + \\\n",
    "                self.up[3]* x**2 + \\\n",
    "                self.up[4]* x + self.up[5]\n",
    "        return value + up_value\n",
    "    \n",
    "    # 定义衰减函数,在遇到激活信号时进行时间结算,或者计算隐藏层状态信号\n",
    "    def caculate_signal_down(self,value,have_down_time):\n",
    "        x = have_down_time\n",
    "        down_ratio = self.down[0] * math.exp(-self.down[1]*x) + self.down[2] + \\\n",
    "                     self.down[3] * math.exp(-self.down[4]*x) + self.down[5] + \\\n",
    "                     self.down[6] * math.exp(-self.down[7]*x) + self.down[8]\n",
    "        return value * down_ratio\n",
    "    \n",
    "    # 定义时间帧计算函数\n",
    "    def caculate_time_frame(self,value,have_down_time,signal):\n",
    "        if signal <= 4.0:\n",
    "            return value, have_down_time + self.time_frame\n",
    "        elif signal >= 12.0:\n",
    "            value = self.caculate_signal_down(value,have_down_time)\n",
    "            value = self.caculate_pulse_up(value,self.max_rank)\n",
    "            return value, self.time_frame - self.pulse_time\n",
    "        else:\n",
    "            value = self.caculate_signal_down(value,have_down_time)\n",
    "            value = self.caculate_pulse_up(value,signal)\n",
    "            return value, self.time_frame - self.pulse_time*(signal/self.max_rank)\n",
    "         \n",
    "    # 定义时间步计算函数\n",
    "    def caculate_time_step(self,value,have_down_time,image_row,random_sequence):\n",
    "        for i in range(random_sequence.shape[0]):\n",
    "            value,have_down_time = self.caculate_time_frame(value,\n",
    "                                                       have_down_time,\n",
    "                                                       image_row[random_sequence[i]])\n",
    "        return value, have_down_time\n",
    "    \n",
    "    # 定义忆阻器读取状态计算函数，对应储备池的神经元状态信息\n",
    "    # 每次读取一张图片进行记录\n",
    "    def caculate_hidden_layer_state(self, X: np.ndarray = None, \n",
    "                                    hidden_layer_state: np.ndarray = None,\n",
    "                                    state_index: int = 0):\n",
    "        # # 清空储备池的信息\n",
    "        # self.hidden_layer_state = np.zeros(shape = (self.num_step,self.N_res),dtype = float)\n",
    "        \n",
    "        # # i循环是图片\n",
    "        # for i in range(int(self.input.shape[0]/self.num_step)):\n",
    "        # j循环是忆阻器群\n",
    "        for j in range(self.N_res):\n",
    "            # value是输入新的时间步时忆阻器的当前信号值\n",
    "            value = 0.0\n",
    "            # have_down_time是从上次激活开始的总衰减时间\n",
    "            have_down_time = 0.0\n",
    "\n",
    "            # k循环是时间步\n",
    "            for k in range(self.num_step):\n",
    "                # 计算忆阻器读取图片特定行转换的信号后的信号值变化和已衰减时间变化\n",
    "                # 如没有激活信号，则信号不变，改变已衰减时间，从而在需要时计算新的激活前信号值\n",
    "                value,have_down_time = self.caculate_time_step(value,\n",
    "                                                          have_down_time,\n",
    "                                                          X[k],\n",
    "                                                          # self.input[i*self.num_step+k],\n",
    "                                                          self.random_sequence[j][k])\n",
    "                # 根据变化后的情况计算隐藏层状态\n",
    "                # self.hidden_layer_state[i][k][j] = self.caculate_signal_down(value,have_down_time)\n",
    "                hidden_layer_state[state_index][k][j] = self.caculate_signal_down(value,have_down_time)\n",
    "                # 根据时间步间隔时间修改已衰减时间\n",
    "                have_down_time += self.interval_time\n",
    "        return hidden_layer_state\n",
    "        \n",
    "    # 定义部分训练函数，用于计算序列的部分图片，保证逆矩阵的推迟计算\n",
    "    def partial_fit(self, \n",
    "                    X: np.ndarray = None, \n",
    "                    y: np.ndarray = None, \n",
    "                    postpone_inverse: bool = False):\n",
    "        # 计算输入图片对应的储备池信息\n",
    "        self.caculate_hidden_layer_state(X,self.hidden_layer_state,self.state_index)\n",
    "        # 对图片进行拟合\n",
    "        self.regressor.partial_fit(self.hidden_layer_state[self.state_index],y,postpone_inverse)\n",
    "        # 状态索引+1\n",
    "        self.state_index += 1\n",
    "\n",
    "        \n",
    "    # 定义训练函数,可以输入新的数据，也可以使用已有数据\n",
    "    # 注意使用新的数据会导致原有的数据被重置\n",
    "    def fit(self,\n",
    "            X_train : np.ndarray = None, \n",
    "            Y_train : np.ndarray = None):\n",
    "        # 修改输入的input和res\n",
    "        if X_train is not None and Y_train is not None:\n",
    "            self.init_use(X_train,y_train)\n",
    "        \n",
    "        # 对结果进行二进制编码，使用标签编码器,完成编码\n",
    "        self._encoder = LabelBinarizer().fit(self.res)\n",
    "        self.res = self._encoder.transform(self.res)\n",
    "        \n",
    "        # 拟合最后一张图片之前的图片，并推迟计算逆矩阵\n",
    "        [self.partial_fit(X = self.input[idx[0]:idx[1],...],\n",
    "                          y = self.res[idx[0]:idx[1],...],\n",
    "                          postpone_inverse=True)\n",
    "        for idx in self.sequence_ranges[:-1]]\n",
    "        \n",
    "        # 拟合最后一张不推迟逆矩阵的计算\n",
    "        self.partial_fit(X = self.input[self.sequence_ranges[-1][0]:, ...],\n",
    "                         y = self.res[self.sequence_ranges[-1][0]:, ...],\n",
    "                         postpone_inverse=False)\n",
    "        \n",
    "    # 定义预测函数\n",
    "    def predict(self, X_test: np.ndarray = None):\n",
    "        # 初始化临时的储备池，用于记录测试集的结果\n",
    "        hidden_layer_state = np.ndarray(shape = (X_test.shape[0]),dtype = object)\n",
    "        for i in range(hidden_layer_state.shape[0]):\n",
    "            hidden_layer_state[i] = np.zeros(shape = (self.num_step,self.N_res),dtype = float)\n",
    "        \n",
    "        # 记录图片索引\n",
    "        state_index = 0\n",
    "        \n",
    "        # 记录预测结果\n",
    "        y = np.empty(shape=X_test.shape, dtype=object)\n",
    "        \n",
    "        # 进行储备池计算\n",
    "        for i in range(len(X_test)):\n",
    "            self.caculate_hidden_layer_state(X_test[i], hidden_layer_state,state_index)\n",
    "            y[i] = self.regressor.predict(hidden_layer_state[i])\n",
    "            # 二进制标签分类转为多分类标签\n",
    "            y[i] = MatrixToValueProjection(\n",
    "                    output_strategy= \"winner_takes_all\")\\\n",
    "                    .fit_transform(y[i])\n",
    "            state_index += 1\n",
    "\n",
    "        # 返回预测结果\n",
    "        return y\n"
   ]
  },
  {
   "cell_type": "code",
   "execution_count": 8,
   "id": "17eb3b97-d507-4037-935f-f3fc9ca9e625",
   "metadata": {
    "execution": {
     "iopub.execute_input": "2024-02-21T14:23:06.708909Z",
     "iopub.status.busy": "2024-02-21T14:23:06.708909Z",
     "iopub.status.idle": "2024-02-21T14:25:41.424245Z",
     "shell.execute_reply": "2024-02-21T14:25:41.423397Z",
     "shell.execute_reply.started": "2024-02-21T14:23:06.708909Z"
    },
    "tags": []
   },
   "outputs": [],
   "source": [
    "example2 = image_to_signal_gray(X_signal = X_tr2, Y_result= y_tr2, N_res = 800, K_in = 2,\n",
    "                                pulse_time = 1, time_frame = 4, interval_time = 6)\n",
    "example2.fit()\n",
    "y_te_predict2 = example2.predict(X_test = X_te2)"
   ]
  },
  {
   "cell_type": "code",
   "execution_count": 9,
   "id": "9a7af908-b0a0-43d7-8ad2-186cd5fcacfa",
   "metadata": {
    "collapsed": true,
    "execution": {
     "iopub.execute_input": "2024-02-21T14:25:41.425248Z",
     "iopub.status.busy": "2024-02-21T14:25:41.425248Z",
     "iopub.status.idle": "2024-02-21T14:25:41.962986Z",
     "shell.execute_reply": "2024-02-21T14:25:41.961985Z",
     "shell.execute_reply.started": "2024-02-21T14:25:41.425248Z"
    },
    "jupyter": {
     "outputs_hidden": true
    },
    "tags": []
   },
   "outputs": [
    {
     "name": "stdout",
     "output_type": "stream",
     "text": [
      "acc_score:0.95\n",
      "测试集的第10张手写数字图片:\n"
     ]
    },
    {
     "data": {
      "image/png": "[encoded data removed]",
      "text/plain": [
       "<Figure size 100x100 with 1 Axes>"
      ]
     },
     "metadata": {},
     "output_type": "display_data"
    },
    {
     "name": "stdout",
     "output_type": "stream",
     "text": [
      "正确标签结果:[0]\n",
      "预测结果:[0]\n",
      "\n",
      "测试集的第11张手写数字图片:\n"
     ]
    },
    {
     "data": {
      "image/png": "[encoded data removed]",
      "text/plain": [
       "<Figure size 100x100 with 1 Axes>"
      ]
     },
     "metadata": {},
     "output_type": "display_data"
    },
    {
     "name": "stdout",
     "output_type": "stream",
     "text": [
      "正确标签结果:[5]\n",
      "预测结果:[5]\n",
      "\n",
      "测试集的第12张手写数字图片:\n"
     ]
    },
    {
     "data": {
      "image/png": "[encoded data removed]",
      "text/plain": [
       "<Figure size 100x100 with 1 Axes>"
      ]
     },
     "metadata": {},
     "output_type": "display_data"
    },
    {
     "name": "stdout",
     "output_type": "stream",
     "text": [
      "正确标签结果:[9]\n",
      "预测结果:[9]\n",
      "\n",
      "测试集的第13张手写数字图片:\n"
     ]
    },
    {
     "data": {
      "image/png": "[encoded data removed]",
      "text/plain": [
       "<Figure size 100x100 with 1 Axes>"
      ]
     },
     "metadata": {},
     "output_type": "display_data"
    },
    {
     "name": "stdout",
     "output_type": "stream",
     "text": [
      "正确标签结果:[3]\n",
      "预测结果:[3]\n",
      "\n",
      "测试集的第14张手写数字图片:\n"
     ]
    },
    {
     "data": {
      "image/png": "[encoded data removed]",
      "text/plain": [
       "<Figure size 100x100 with 1 Axes>"
      ]
     },
     "metadata": {},
     "output_type": "display_data"
    },
    {
     "name": "stdout",
     "output_type": "stream",
     "text": [
      "正确标签结果:[4]\n",
      "预测结果:[4]\n",
      "\n",
      "测试集的第15张手写数字图片:\n"
     ]
    },
    {
     "data": {
      "image/png": "[encoded data removed]",
      "text/plain": [
       "<Figure size 100x100 with 1 Axes>"
      ]
     },
     "metadata": {},
     "output_type": "display_data"
    },
    {
     "name": "stdout",
     "output_type": "stream",
     "text": [
      "正确标签结果:[4]\n",
      "预测结果:[4]\n",
      "\n",
      "测试集的第16张手写数字图片:\n"
     ]
    },
    {
     "data": {
      "image/png": "[encoded data removed]",
      "text/plain": [
       "<Figure size 100x100 with 1 Axes>"
      ]
     },
     "metadata": {},
     "output_type": "display_data"
    },
    {
     "name": "stdout",
     "output_type": "stream",
     "text": [
      "正确标签结果:[2]\n",
      "预测结果:[2]\n",
      "\n",
      "测试集的第17张手写数字图片:\n"
     ]
    },
    {
     "data": {
      "image/png": "[encoded data removed]",
      "text/plain": [
       "<Figure size 100x100 with 1 Axes>"
      ]
     },
     "metadata": {},
     "output_type": "display_data"
    },
    {
     "name": "stdout",
     "output_type": "stream",
     "text": [
      "正确标签结果:[4]\n",
      "预测结果:[4]\n",
      "\n",
      "测试集的第18张手写数字图片:\n"
     ]
    },
    {
     "data": {
      "image/png": "[encoded data removed]",
      "text/plain": [
       "<Figure size 100x100 with 1 Axes>"
      ]
     },
     "metadata": {},
     "output_type": "display_data"
    },
    {
     "name": "stdout",
     "output_type": "stream",
     "text": [
      "正确标签结果:[9]\n",
      "预测结果:[9]\n",
      "\n",
      "测试集的第19张手写数字图片:\n"
     ]
    },
    {
     "data": {
      "image/png": "[encoded data removed]",
      "text/plain": [
       "<Figure size 100x100 with 1 Axes>"
      ]
     },
     "metadata": {},
     "output_type": "display_data"
    },
    {
     "name": "stdout",
     "output_type": "stream",
     "text": [
      "正确标签结果:[9]\n",
      "预测结果:[9]\n",
      "\n"
     ]
    }
   ],
   "source": [
    "# 展示测试集的测试结果:\n",
    "acc_score = accuracy_score(y_test2, y_te_predict2)\n",
    "print(\"acc_score:\"+str(acc_score))\n",
    "# 展示部分图片的预测结果\n",
    "for i in range(10,20):\n",
    "    print(\"测试集的第\",i,\"张手写数字图片:\",sep=\"\")\n",
    "    # 原始图片需要顺时针旋转90度再水平翻转才是正确结果\n",
    "    img_show=np.flip(np.rot90(X_te2[i],k=-1),1)\n",
    "    #展示图片，不要太大\n",
    "    plt.figure(figsize=(1,1))\n",
    "    plt.imshow(img_show)\n",
    "    # plt.imshow(img_show,cmap='gray')\n",
    "    plt.show()\n",
    "    print(\"正确标签结果:\",y_test2[i],sep=\"\")\n",
    "    print(\"预测结果:\",y_te_predict2[i],sep=\"\")\n",
    "    print()"
   ]
  }
 ],
 "metadata": {
  "kernelspec": {
   "display_name": "python39",
   "language": "python",
   "name": "python39"
  },
  "language_info": {
   "codemirror_mode": {
    "name": "ipython",
    "version": 3
   },
   "file_extension": ".py",
   "mimetype": "text/x-python",
   "name": "python",
   "nbconvert_exporter": "python",
   "pygments_lexer": "ipython3",
   "version": "3.9.2"
  }
 },
 "nbformat": 4,
 "nbformat_minor": 5
}
